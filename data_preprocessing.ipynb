{
 "cells": [
  {
   "cell_type": "markdown",
   "metadata": {},
   "source": [
    "## Import thư viện"
   ]
  },
  {
   "cell_type": "code",
   "execution_count": 1,
   "metadata": {},
   "outputs": [
    {
     "name": "stderr",
     "output_type": "stream",
     "text": [
      "c:\\Users\\trank\\AppData\\Local\\Programs\\Python\\Python312\\Lib\\site-packages\\pyspark\\pandas\\__init__.py:50: UserWarning: 'PYARROW_IGNORE_TIMEZONE' environment variable was not set. It is required to set this environment variable to '1' in both driver and executor sides if you use pyarrow>=2.0.0. pandas-on-Spark will set it for you but it does not work if there is a Spark context already launched.\n",
      "  warnings.warn(\n"
     ]
    }
   ],
   "source": [
    "import pyspark\n",
    "from pyspark.sql import SparkSession, Window\n",
    "from pyspark.sql.functions import col, count, when, to_timestamp, split, regexp_replace, row_number, sum, count_distinct\n",
    "from functools import reduce\n",
    "import pyspark.pandas as ps"
   ]
  },
  {
   "cell_type": "markdown",
   "metadata": {},
   "source": [
    "## Khởi tạo Spark Session"
   ]
  },
  {
   "cell_type": "code",
   "execution_count": 2,
   "metadata": {},
   "outputs": [],
   "source": [
    "spark = SparkSession.builder \\\n",
    "    .appName(\"Analysis\") \\\n",
    "    .getOrCreate()"
   ]
  },
  {
   "cell_type": "markdown",
   "metadata": {},
   "source": [
    "## Đọc file data"
   ]
  },
  {
   "cell_type": "code",
   "execution_count": 3,
   "metadata": {},
   "outputs": [],
   "source": [
    "raw_df = spark.read.csv(\"./data/raw_data.csv\", header=True, inferSchema=True)"
   ]
  },
  {
   "cell_type": "code",
   "execution_count": 4,
   "metadata": {},
   "outputs": [
    {
     "name": "stdout",
     "output_type": "stream",
     "text": [
      "+-----------+-------------+--------------------+--------------------+---------------+--------------------+--------------------+--------+-------+--------+-------------+--------------------+-----------------+----------------+----------------------+--------------------+\n",
      "|   video_id|trending_date|               title|       channel_title|    category_id|        publish_time|                tags|   views|  likes|dislikes|comment_count|      thumbnail_link|comments_disabled|ratings_disabled|video_error_or_removed|         description|\n",
      "+-----------+-------------+--------------------+--------------------+---------------+--------------------+--------------------+--------+-------+--------+-------------+--------------------+-----------------+----------------+----------------------+--------------------+\n",
      "|Jw1Y-zhQURU|     17.14.11|John Lewis Christ...|          John Lewis|  Howto & Style|2017-11-10T07:38:...|\"christmas|\"\"john...| 7224515|  55681|   10247|         9479|https://i.ytimg.c...|            FALSE|           FALSE|                 FALSE|Click here to con...|\n",
      "|3s1rvMFUweQ|     17.14.11|Taylor Swift: …Re...| Saturday Night Live|  Entertainment|2017-11-12T06:24:...|\"SNL|\"\"Saturday N...| 1053632|  25561|    2294|         2757|https://i.ytimg.c...|            FALSE|           FALSE|                 FALSE|Musical guest Tay...|\n",
      "|n1WpP7iowLc|     17.14.11|Eminem - Walk On ...|          EminemVEVO|          Music|2017-11-10T17:00:...|\"Eminem|\"\"Walk\"\"|...|17158579| 787420|   43420|       125882|https://i.ytimg.c...|            FALSE|           FALSE|                 FALSE|Eminem's new trac...|\n",
      "|PUTEiSjKwJU|     17.14.11|Goals from Salfor...|Salford City Foot...|         Sports|2017-11-13T02:30:...|\"Salford City FC|...|   27833|    193|      12|           37|https://i.ytimg.c...|            FALSE|           FALSE|                 FALSE|Salford drew 4-4 ...|\n",
      "|rHwDegptbI4|     17.14.11|Dashcam captures ...|    Cute Girl Videos|News & Politics|2017-11-13T01:45:...|              [none]|    9815|     30|       2|           30|https://i.ytimg.c...|            FALSE|           FALSE|                 FALSE|Dashcam captures ...|\n",
      "|AumaWl0TNBo|     17.14.11|How My Relationsh...|  PointlessBlogVlogs|  Entertainment|2017-11-11T17:00:...|\"pointlessblog|\"\"...| 1182775|  52708|    1431|         2333|https://i.ytimg.c...|            FALSE|           FALSE|                 FALSE|► HOW MY RELATION...|\n",
      "|2Vv-BfVoq4g|     17.14.11|Ed Sheeran - Perf...|          Ed Sheeran|          Music|2017-11-09T11:04:...|\"edsheeran|\"\"ed s...|33523622|1634124|   21082|        85067|https://i.ytimg.c...|            FALSE|           FALSE|                 FALSE|🎧: https://ad.gt...|\n",
      "|     #NAME?|     17.14.11|CHRISTMAS HAS GON...|          MoreZoella| People & Blogs|2017-11-10T19:19:...|\"zoe sugg|\"\"zoell...| 1164201|  57309|     749|          624|https://i.ytimg.c...|            FALSE|           FALSE|                 FALSE|CHRISTMAS HAS GON...|\n",
      "|LMCuKltaY3M|     17.14.11|Elbow - Golden Sl...|           ElbowVEVO|          Music|2017-11-10T08:00:...|\"Elbow|\"\"Golden\"\"...|  154494|   2163|     147|          211|https://i.ytimg.c...|            FALSE|           FALSE|                 FALSE|“Golden Slumbers”...|\n",
      "|9t9u_yPEidY|     17.14.11|Jennifer Lopez - ...|   JenniferLopezVEVO|          Music|2017-11-10T15:00:...|\"Jennifer Lopez f...| 9548677| 190084|   15015|        11473|https://i.ytimg.c...|            FALSE|           FALSE|                 FALSE|Jennifer Lopez ft...|\n",
      "|ONQ-fAp5X64|     17.14.11|CAN BABIES DO GYM...|         Nile Wilson|         Sports|2017-11-11T10:30:...|\"nile wilson|\"\"ni...|  306724|   9591|     266|          448|https://i.ytimg.c...|            FALSE|           FALSE|                 FALSE|➢ Join my FREE 7 ...|\n",
      "|Dlwf5u2BLAg|     17.14.11|TV Reporter Inter...|      Inside Edition|News & Politics|2017-11-10T01:40:...|\"reporter|\"\"robbe...|  254314|   1746|     125|          298|https://i.ytimg.c...|            FALSE|           FALSE|                 FALSE|More from Inside ...|\n",
      "|NVCqz2BDfcQ|     17.14.11|Gucci Mane  - Cur...|   OfficialGucciMane|          Music|2017-11-10T17:18:...|\"Gucci Mane|\"\"The...|  946859|  37986|     816|         2006|https://i.ytimg.c...|            FALSE|           FALSE|                 FALSE|Gucci Mane - Curv...|\n",
      "|MyEqfBkzESU|     17.14.11|EXTREME GOLDEN TA...|        John Maclean|  Howto & Style|2017-11-10T20:40:...|\"Extreme Tan|\"\"Ta...|  300617|   8133|    2693|         2911|https://i.ytimg.c...|            FALSE|           FALSE|                 FALSE|-\\n\\n\\nWebsite - ...|\n",
      "|b4vTZx_AtHk|     17.14.11|How To Dry a Shir...|          HowToBasic|  Howto & Style|2017-11-09T18:36:...|\"how to dry a shi...| 2063667|  98804|   11682|        11443|https://i.ytimg.c...|            FALSE|           FALSE|                 FALSE|Today I show you ...|\n",
      "|BsfhHKx6ajA|     17.14.11|Attracting An Alp...|Good Mythical Mor...|  Entertainment|2017-11-10T11:00:...|\"rhett and link|\"...|  728547|  12553|    2146|         1143|https://i.ytimg.c...|            FALSE|           FALSE|                 FALSE|Trust us, there's...|\n",
      "|DIU3xPdhCBI|     17.14.11|Sam Smith surpris...|           BBC Music|          Music|2017-11-09T22:26:...|\"bbc|\"\"music\"\"|\"\"...|  893462|  22326|     833|          943|https://i.ytimg.c...|            FALSE|           FALSE|                 FALSE|You have to watch...|\n",
      "|pz95u3UVpaM|     17.14.11|Camila Cabello - ...|   CamilaCabelloVEVO|          Music|2017-11-10T05:01:...|\"camila cabello|\"...| 5476738| 286269|    4083|        12254|https://i.ytimg.c...|            FALSE|           FALSE|                 FALSE|Havana – Spotify ...|\n",
      "|jp9hK-jY6yY|     17.14.11|When Someone Has ...|      IISuperwomanII|         Comedy|2017-11-09T22:21:...|\"iisuperwomanii|\"...| 3371669| 202676|    3394|        20086|https://i.ytimg.c...|            FALSE|           FALSE|                 FALSE|You know that fee...|\n",
      "|gEHCXl4J9Qo|     17.14.11|Taylor Swift - “N...|ABC Television Ne...|  Entertainment|2017-11-10T02:32:...|\"American Broadca...| 2237404|  72593|    1830|         3501|https://i.ytimg.c...|            FALSE|           FALSE|                 FALSE|This intimate fan...|\n",
      "+-----------+-------------+--------------------+--------------------+---------------+--------------------+--------------------+--------+-------+--------+-------------+--------------------+-----------------+----------------+----------------------+--------------------+\n",
      "only showing top 20 rows\n",
      "\n"
     ]
    }
   ],
   "source": [
    "raw_df.show()"
   ]
  },
  {
   "cell_type": "code",
   "execution_count": 5,
   "metadata": {},
   "outputs": [
    {
     "name": "stdout",
     "output_type": "stream",
     "text": [
      "+-------+-----------+-------------+--------------------+--------------------+--------------------+--------------------+--------------------+--------------------+--------------------+--------------------+-----------------+--------------------+-----------------+----------------+----------------------+--------------------+\n",
      "|summary|   video_id|trending_date|               title|       channel_title|         category_id|        publish_time|                tags|               views|               likes|            dislikes|    comment_count|      thumbnail_link|comments_disabled|ratings_disabled|video_error_or_removed|         description|\n",
      "+-------+-----------+-------------+--------------------+--------------------+--------------------+--------------------+--------------------+--------------------+--------------------+--------------------+-----------------+--------------------+-----------------+----------------+----------------------+--------------------+\n",
      "|  count|      43185|        39540|               39423|               39358|               39202|               39161|               38943|               38930|               38930|               38895|            38895|               38895|            38895|           38840|                 38840|               38280|\n",
      "|   mean|       NULL|       2018.0|                NULL|                NULL|                NULL|                NULL|                NULL|   5918873.798613616|   134249.1777044787|   7493.870380868938|12925.64562181106|                NULL|             NULL|            NULL|                  NULL|                NULL|\n",
      "| stddev|       NULL|          0.0|                NULL|                NULL|                NULL|                NULL|                NULL|1.9024332538807694E7|  349089.04842233995|   50407.81019774661|49570.43302798505|                NULL|             NULL|            NULL|                  NULL|                NULL|\n",
      "|    min|     #NAME?|        2018.| and built-in vac...| Zedd's Grammy si...| and restaurant m...| GQ’s video chann...| Rooster & Other ...| Stephen Curry an...| Kendall Jenner a...| D'Onofrio makes ...| celebrity videos|               music|         farfalle|      garganelli|               anolini|                    |\n",
      "|    max|zxwfDlhJIpw|     18.31.05|🔥  The 'Avengers...|      특이한동물채널|     Travel & Events|2018-06-13T13:11:...|     wtf is going on|               99990|                9999|                9997|             9996|https://i.ytimg.c...|             TRUE|            TRUE|                  TRUE|😳😳😳 @miketyson...|\n",
      "+-------+-----------+-------------+--------------------+--------------------+--------------------+--------------------+--------------------+--------------------+--------------------+--------------------+-----------------+--------------------+-----------------+----------------+----------------------+--------------------+\n",
      "\n"
     ]
    }
   ],
   "source": [
    "raw_df.describe().show()"
   ]
  },
  {
   "cell_type": "code",
   "execution_count": null,
   "metadata": {},
   "outputs": [],
   "source": [
    "def dataframe_info(df):\n",
    "    print(f\"{'-'*40}\")\n",
    "    print(f\"Thông tin DataFrame:\")\n",
    "    print(f\"Số dòng: {df.count()}\")\n",
    "    print(f\"Số cột: {len(df.columns)}\")\n",
    "    print(f\"{'-'*40}\")\n",
    "    print(\"Schema:\")\n",
    "    df.printSchema()\n",
    "    print(f\"{'-'*40}\")\n",
    "    print(\"Số giá trị null trong mỗi cột:\")\n",
    "    null_counts = df.select([\n",
    "        count(when(col(c).isNull(), c)).alias(c) for c in df.columns\n",
    "    ])\n",
    "    null_counts.show()"
   ]
  },
  {
   "cell_type": "code",
   "execution_count": 7,
   "metadata": {},
   "outputs": [
    {
     "name": "stdout",
     "output_type": "stream",
     "text": [
      "----------------------------------------\n",
      "DataFrame thông tin:\n",
      "Số dòng: 43295\n",
      "Số cột: 16\n",
      "----------------------------------------\n",
      "Schema:\n",
      "root\n",
      " |-- video_id: string (nullable = true)\n",
      " |-- trending_date: string (nullable = true)\n",
      " |-- title: string (nullable = true)\n",
      " |-- channel_title: string (nullable = true)\n",
      " |-- category_id: string (nullable = true)\n",
      " |-- publish_time: string (nullable = true)\n",
      " |-- tags: string (nullable = true)\n",
      " |-- views: string (nullable = true)\n",
      " |-- likes: string (nullable = true)\n",
      " |-- dislikes: string (nullable = true)\n",
      " |-- comment_count: string (nullable = true)\n",
      " |-- thumbnail_link: string (nullable = true)\n",
      " |-- comments_disabled: string (nullable = true)\n",
      " |-- ratings_disabled: string (nullable = true)\n",
      " |-- video_error_or_removed: string (nullable = true)\n",
      " |-- description: string (nullable = true)\n",
      "\n",
      "----------------------------------------\n",
      "Số giá trị null trong mỗi cột:\n",
      "+--------+-------------+-----+-------------+-----------+------------+----+-----+-----+--------+-------------+--------------+-----------------+----------------+----------------------+-----------+\n",
      "|video_id|trending_date|title|channel_title|category_id|publish_time|tags|views|likes|dislikes|comment_count|thumbnail_link|comments_disabled|ratings_disabled|video_error_or_removed|description|\n",
      "+--------+-------------+-----+-------------+-----------+------------+----+-----+-----+--------+-------------+--------------+-----------------+----------------+----------------------+-----------+\n",
      "|     110|         3755| 3872|         3937|       4093|        4134|4352| 4365| 4365|    4400|         4400|          4400|             4400|            4455|                  4455|       5015|\n",
      "+--------+-------------+-----+-------------+-----------+------------+----+-----+-----+--------+-------------+--------------+-----------------+----------------+----------------------+-----------+\n",
      "\n"
     ]
    }
   ],
   "source": [
    "dataframe_info(raw_df)"
   ]
  },
  {
   "cell_type": "markdown",
   "metadata": {},
   "source": [
    "## Tiền xử lí dữ liệu"
   ]
  },
  {
   "cell_type": "markdown",
   "metadata": {},
   "source": [
    "### Xóa các cột không cần thiết"
   ]
  },
  {
   "cell_type": "code",
   "execution_count": 8,
   "metadata": {},
   "outputs": [
    {
     "name": "stdout",
     "output_type": "stream",
     "text": [
      "----------------------------------------\n",
      "DataFrame thông tin:\n",
      "Số dòng: 43295\n",
      "Số cột: 11\n",
      "----------------------------------------\n",
      "Schema:\n",
      "root\n",
      " |-- trending_date: string (nullable = true)\n",
      " |-- title: string (nullable = true)\n",
      " |-- channel_title: string (nullable = true)\n",
      " |-- category_id: string (nullable = true)\n",
      " |-- publish_time: string (nullable = true)\n",
      " |-- tags: string (nullable = true)\n",
      " |-- views: string (nullable = true)\n",
      " |-- likes: string (nullable = true)\n",
      " |-- dislikes: string (nullable = true)\n",
      " |-- comment_count: string (nullable = true)\n",
      " |-- description: string (nullable = true)\n",
      "\n",
      "----------------------------------------\n",
      "Số giá trị null trong mỗi cột:\n",
      "+-------------+-----+-------------+-----------+------------+----+-----+-----+--------+-------------+-----------+\n",
      "|trending_date|title|channel_title|category_id|publish_time|tags|views|likes|dislikes|comment_count|description|\n",
      "+-------------+-----+-------------+-----------+------------+----+-----+-----+--------+-------------+-----------+\n",
      "|         3755| 3872|         3937|       4093|        4134|4352| 4365| 4365|    4400|         4400|       5015|\n",
      "+-------------+-----+-------------+-----------+------------+----+-----+-----+--------+-------------+-----------+\n",
      "\n"
     ]
    }
   ],
   "source": [
    "category_df = raw_df.drop(*['video_id', 'thumbnail_link', 'comments_disabled', 'video_error_or_removed', 'ratings_disabled'])\n",
    "dataframe_info(category_df)"
   ]
  },
  {
   "cell_type": "markdown",
   "metadata": {},
   "source": [
    "### Xóa các hàng có tất cả các giá trị là Null"
   ]
  },
  {
   "cell_type": "code",
   "execution_count": 9,
   "metadata": {},
   "outputs": [
    {
     "name": "stdout",
     "output_type": "stream",
     "text": [
      "+-------------+--------------------+--------------------+---------------+--------------------+--------------------+--------+-------+--------+-------------+--------------------+\n",
      "|trending_date|               title|       channel_title|    category_id|        publish_time|                tags|   views|  likes|dislikes|comment_count|         description|\n",
      "+-------------+--------------------+--------------------+---------------+--------------------+--------------------+--------+-------+--------+-------------+--------------------+\n",
      "|     17.14.11|John Lewis Christ...|          John Lewis|  Howto & Style|2017-11-10T07:38:...|\"christmas|\"\"john...| 7224515|  55681|   10247|         9479|Click here to con...|\n",
      "|     17.14.11|Taylor Swift: …Re...| Saturday Night Live|  Entertainment|2017-11-12T06:24:...|\"SNL|\"\"Saturday N...| 1053632|  25561|    2294|         2757|Musical guest Tay...|\n",
      "|     17.14.11|Eminem - Walk On ...|          EminemVEVO|          Music|2017-11-10T17:00:...|\"Eminem|\"\"Walk\"\"|...|17158579| 787420|   43420|       125882|Eminem's new trac...|\n",
      "|     17.14.11|Goals from Salfor...|Salford City Foot...|         Sports|2017-11-13T02:30:...|\"Salford City FC|...|   27833|    193|      12|           37|Salford drew 4-4 ...|\n",
      "|     17.14.11|Dashcam captures ...|    Cute Girl Videos|News & Politics|2017-11-13T01:45:...|              [none]|    9815|     30|       2|           30|Dashcam captures ...|\n",
      "|     17.14.11|How My Relationsh...|  PointlessBlogVlogs|  Entertainment|2017-11-11T17:00:...|\"pointlessblog|\"\"...| 1182775|  52708|    1431|         2333|► HOW MY RELATION...|\n",
      "|     17.14.11|Ed Sheeran - Perf...|          Ed Sheeran|          Music|2017-11-09T11:04:...|\"edsheeran|\"\"ed s...|33523622|1634124|   21082|        85067|🎧: https://ad.gt...|\n",
      "|     17.14.11|CHRISTMAS HAS GON...|          MoreZoella| People & Blogs|2017-11-10T19:19:...|\"zoe sugg|\"\"zoell...| 1164201|  57309|     749|          624|CHRISTMAS HAS GON...|\n",
      "|     17.14.11|Elbow - Golden Sl...|           ElbowVEVO|          Music|2017-11-10T08:00:...|\"Elbow|\"\"Golden\"\"...|  154494|   2163|     147|          211|“Golden Slumbers”...|\n",
      "|     17.14.11|Jennifer Lopez - ...|   JenniferLopezVEVO|          Music|2017-11-10T15:00:...|\"Jennifer Lopez f...| 9548677| 190084|   15015|        11473|Jennifer Lopez ft...|\n",
      "|     17.14.11|CAN BABIES DO GYM...|         Nile Wilson|         Sports|2017-11-11T10:30:...|\"nile wilson|\"\"ni...|  306724|   9591|     266|          448|➢ Join my FREE 7 ...|\n",
      "|     17.14.11|TV Reporter Inter...|      Inside Edition|News & Politics|2017-11-10T01:40:...|\"reporter|\"\"robbe...|  254314|   1746|     125|          298|More from Inside ...|\n",
      "|     17.14.11|Gucci Mane  - Cur...|   OfficialGucciMane|          Music|2017-11-10T17:18:...|\"Gucci Mane|\"\"The...|  946859|  37986|     816|         2006|Gucci Mane - Curv...|\n",
      "|     17.14.11|EXTREME GOLDEN TA...|        John Maclean|  Howto & Style|2017-11-10T20:40:...|\"Extreme Tan|\"\"Ta...|  300617|   8133|    2693|         2911|-\\n\\n\\nWebsite - ...|\n",
      "|     17.14.11|How To Dry a Shir...|          HowToBasic|  Howto & Style|2017-11-09T18:36:...|\"how to dry a shi...| 2063667|  98804|   11682|        11443|Today I show you ...|\n",
      "|     17.14.11|Attracting An Alp...|Good Mythical Mor...|  Entertainment|2017-11-10T11:00:...|\"rhett and link|\"...|  728547|  12553|    2146|         1143|Trust us, there's...|\n",
      "|     17.14.11|Sam Smith surpris...|           BBC Music|          Music|2017-11-09T22:26:...|\"bbc|\"\"music\"\"|\"\"...|  893462|  22326|     833|          943|You have to watch...|\n",
      "|     17.14.11|Camila Cabello - ...|   CamilaCabelloVEVO|          Music|2017-11-10T05:01:...|\"camila cabello|\"...| 5476738| 286269|    4083|        12254|Havana – Spotify ...|\n",
      "|     17.14.11|When Someone Has ...|      IISuperwomanII|         Comedy|2017-11-09T22:21:...|\"iisuperwomanii|\"...| 3371669| 202676|    3394|        20086|You know that fee...|\n",
      "|     17.14.11|Taylor Swift - “N...|ABC Television Ne...|  Entertainment|2017-11-10T02:32:...|\"American Broadca...| 2237404|  72593|    1830|         3501|This intimate fan...|\n",
      "+-------------+--------------------+--------------------+---------------+--------------------+--------------------+--------+-------+--------+-------------+--------------------+\n",
      "only showing top 20 rows\n",
      "\n"
     ]
    }
   ],
   "source": [
    "category_df = category_df.filter(\n",
    "    reduce(lambda a, b: a | b, (col(c).isNotNull() for c in category_df.columns))\n",
    ")\n",
    "category_df.show()"
   ]
  },
  {
   "cell_type": "code",
   "execution_count": 10,
   "metadata": {},
   "outputs": [
    {
     "name": "stdout",
     "output_type": "stream",
     "text": [
      "----------------------------------------\n",
      "DataFrame thông tin:\n",
      "Số dòng: 39540\n",
      "Số cột: 11\n",
      "----------------------------------------\n",
      "Schema:\n",
      "root\n",
      " |-- trending_date: string (nullable = true)\n",
      " |-- title: string (nullable = true)\n",
      " |-- channel_title: string (nullable = true)\n",
      " |-- category_id: string (nullable = true)\n",
      " |-- publish_time: string (nullable = true)\n",
      " |-- tags: string (nullable = true)\n",
      " |-- views: string (nullable = true)\n",
      " |-- likes: string (nullable = true)\n",
      " |-- dislikes: string (nullable = true)\n",
      " |-- comment_count: string (nullable = true)\n",
      " |-- description: string (nullable = true)\n",
      "\n",
      "----------------------------------------\n",
      "Số giá trị null trong mỗi cột:\n",
      "+-------------+-----+-------------+-----------+------------+----+-----+-----+--------+-------------+-----------+\n",
      "|trending_date|title|channel_title|category_id|publish_time|tags|views|likes|dislikes|comment_count|description|\n",
      "+-------------+-----+-------------+-----------+------------+----+-----+-----+--------+-------------+-----------+\n",
      "|            0|  117|          182|        338|         379| 597|  610|  610|     645|          645|       1260|\n",
      "+-------------+-----+-------------+-----------+------------+----+-----+-----+--------+-------------+-----------+\n",
      "\n"
     ]
    }
   ],
   "source": [
    "dataframe_info(category_df)"
   ]
  },
  {
   "cell_type": "markdown",
   "metadata": {},
   "source": [
    "### Xóa các hàng có trending_date sai định dạng (lỗi data => các giá trị khác trong hàng có nhiều giá trị Null)"
   ]
  },
  {
   "cell_type": "code",
   "execution_count": 11,
   "metadata": {},
   "outputs": [
    {
     "name": "stdout",
     "output_type": "stream",
     "text": [
      "----------------------------------------\n",
      "DataFrame thông tin:\n",
      "Số dòng: 38806\n",
      "Số cột: 11\n",
      "----------------------------------------\n",
      "Schema:\n",
      "root\n",
      " |-- trending_date: string (nullable = true)\n",
      " |-- title: string (nullable = true)\n",
      " |-- channel_title: string (nullable = true)\n",
      " |-- category_id: string (nullable = true)\n",
      " |-- publish_time: string (nullable = true)\n",
      " |-- tags: string (nullable = true)\n",
      " |-- views: string (nullable = true)\n",
      " |-- likes: string (nullable = true)\n",
      " |-- dislikes: string (nullable = true)\n",
      " |-- comment_count: string (nullable = true)\n",
      " |-- description: string (nullable = true)\n",
      "\n",
      "----------------------------------------\n",
      "Số giá trị null trong mỗi cột:\n",
      "+-------------+-----+-------------+-----------+------------+----+-----+-----+--------+-------------+-----------+\n",
      "|trending_date|title|channel_title|category_id|publish_time|tags|views|likes|dislikes|comment_count|description|\n",
      "+-------------+-----+-------------+-----------+------------+----+-----+-----+--------+-------------+-----------+\n",
      "|            0|    0|            0|          0|           0|   0|    0|    0|       0|            0|        560|\n",
      "+-------------+-----+-------------+-----------+------------+----+-----+-----+--------+-------------+-----------+\n",
      "\n"
     ]
    }
   ],
   "source": [
    "category_df = category_df.filter(\n",
    "    col(\"trending_date\").rlike(r\"^\\d{2}\\.\\d{2}\\.\\d{2}$\")\n",
    ")\n",
    "dataframe_info(category_df)"
   ]
  },
  {
   "cell_type": "markdown",
   "metadata": {},
   "source": [
    "### Thêm giá trị cho các hàng có cột description có giá trị bằng Null"
   ]
  },
  {
   "cell_type": "code",
   "execution_count": 12,
   "metadata": {},
   "outputs": [
    {
     "name": "stdout",
     "output_type": "stream",
     "text": [
      "----------------------------------------\n",
      "DataFrame thông tin:\n",
      "Số dòng: 38806\n",
      "Số cột: 11\n",
      "----------------------------------------\n",
      "Schema:\n",
      "root\n",
      " |-- trending_date: string (nullable = true)\n",
      " |-- title: string (nullable = true)\n",
      " |-- channel_title: string (nullable = true)\n",
      " |-- category_id: string (nullable = true)\n",
      " |-- publish_time: string (nullable = true)\n",
      " |-- tags: string (nullable = true)\n",
      " |-- views: string (nullable = true)\n",
      " |-- likes: string (nullable = true)\n",
      " |-- dislikes: string (nullable = true)\n",
      " |-- comment_count: string (nullable = true)\n",
      " |-- description: string (nullable = false)\n",
      "\n",
      "----------------------------------------\n",
      "Số giá trị null trong mỗi cột:\n",
      "+-------------+-----+-------------+-----------+------------+----+-----+-----+--------+-------------+-----------+\n",
      "|trending_date|title|channel_title|category_id|publish_time|tags|views|likes|dislikes|comment_count|description|\n",
      "+-------------+-----+-------------+-----------+------------+----+-----+-----+--------+-------------+-----------+\n",
      "|            0|    0|            0|          0|           0|   0|    0|    0|       0|            0|          0|\n",
      "+-------------+-----+-------------+-----------+------------+----+-----+-----+--------+-------------+-----------+\n",
      "\n"
     ]
    }
   ],
   "source": [
    "category_df = category_df.fillna({\"description\": \"No description\"})\n",
    "dataframe_info(category_df)"
   ]
  },
  {
   "cell_type": "markdown",
   "metadata": {},
   "source": [
    "### Chuẩn hóa dữ liệu"
   ]
  },
  {
   "cell_type": "code",
   "execution_count": 13,
   "metadata": {},
   "outputs": [
    {
     "name": "stdout",
     "output_type": "stream",
     "text": [
      "+-------------------+--------------------+--------------------+---------------+-------------------+--------------------+--------+-------+--------+-------------+--------------------+\n",
      "|      trending_date|               title|       channel_title|    category_id|       publish_time|                tags|   views|  likes|dislikes|comment_count|         description|\n",
      "+-------------------+--------------------+--------------------+---------------+-------------------+--------------------+--------+-------+--------+-------------+--------------------+\n",
      "|2017-11-14 00:00:00|John Lewis Christ...|          John Lewis|  Howto & Style|2017-11-10 07:38:29|[christmas, john ...| 7224515|  55681|   10247|         9479|Click here to con...|\n",
      "|2017-11-14 00:00:00|Taylor Swift: …Re...| Saturday Night Live|  Entertainment|2017-11-12 06:24:44|[SNL, Saturday Ni...| 1053632|  25561|    2294|         2757|Musical guest Tay...|\n",
      "|2017-11-14 00:00:00|Eminem - Walk On ...|          EminemVEVO|          Music|2017-11-10 17:00:03|[Eminem, Walk, On...|17158579| 787420|   43420|       125882|Eminem's new trac...|\n",
      "|2017-11-14 00:00:00|Goals from Salfor...|Salford City Foot...|         Sports|2017-11-13 02:30:38|[Salford City FC,...|   27833|    193|      12|           37|Salford drew 4-4 ...|\n",
      "|2017-11-14 00:00:00|Dashcam captures ...|    Cute Girl Videos|News & Politics|2017-11-13 01:45:13|                  []|    9815|     30|       2|           30|Dashcam captures ...|\n",
      "|2017-11-14 00:00:00|How My Relationsh...|  PointlessBlogVlogs|  Entertainment|2017-11-11 17:00:00|[pointlessblog, p...| 1182775|  52708|    1431|         2333|► HOW MY RELATION...|\n",
      "|2017-11-14 00:00:00|Ed Sheeran - Perf...|          Ed Sheeran|          Music|2017-11-09 11:04:14|[edsheeran, ed sh...|33523622|1634124|   21082|        85067|🎧: https://ad.gt...|\n",
      "|2017-11-14 00:00:00|CHRISTMAS HAS GON...|          MoreZoella| People & Blogs|2017-11-10 19:19:43|[zoe sugg, zoella...| 1164201|  57309|     749|          624|CHRISTMAS HAS GON...|\n",
      "|2017-11-14 00:00:00|Elbow - Golden Sl...|           ElbowVEVO|          Music|2017-11-10 08:00:01|[Elbow, Golden, S...|  154494|   2163|     147|          211|“Golden Slumbers”...|\n",
      "|2017-11-14 00:00:00|Jennifer Lopez - ...|   JenniferLopezVEVO|          Music|2017-11-10 15:00:00|[Jennifer Lopez f...| 9548677| 190084|   15015|        11473|Jennifer Lopez ft...|\n",
      "|2017-11-14 00:00:00|CAN BABIES DO GYM...|         Nile Wilson|         Sports|2017-11-11 10:30:00|[nile wilson, nil...|  306724|   9591|     266|          448|➢ Join my FREE 7 ...|\n",
      "|2017-11-14 00:00:00|TV Reporter Inter...|      Inside Edition|News & Politics|2017-11-10 01:40:07|[reporter, robber...|  254314|   1746|     125|          298|More from Inside ...|\n",
      "|2017-11-14 00:00:00|Gucci Mane  - Cur...|   OfficialGucciMane|          Music|2017-11-10 17:18:13|[Gucci Mane, The ...|  946859|  37986|     816|         2006|Gucci Mane - Curv...|\n",
      "|2017-11-14 00:00:00|EXTREME GOLDEN TA...|        John Maclean|  Howto & Style|2017-11-10 20:40:44|[Extreme Tan, Tan...|  300617|   8133|    2693|         2911|-\\n\\n\\nWebsite - ...|\n",
      "|2017-11-14 00:00:00|How To Dry a Shir...|          HowToBasic|  Howto & Style|2017-11-09 18:36:48|[how to dry a shi...| 2063667|  98804|   11682|        11443|Today I show you ...|\n",
      "|2017-11-14 00:00:00|Attracting An Alp...|Good Mythical Mor...|  Entertainment|2017-11-10 11:00:00|[rhett and link, ...|  728547|  12553|    2146|         1143|Trust us, there's...|\n",
      "|2017-11-14 00:00:00|Sam Smith surpris...|           BBC Music|          Music|2017-11-09 22:26:10|[bbc, music, bbc ...|  893462|  22326|     833|          943|You have to watch...|\n",
      "|2017-11-14 00:00:00|Camila Cabello - ...|   CamilaCabelloVEVO|          Music|2017-11-10 05:01:00|[camila cabello, ...| 5476738| 286269|    4083|        12254|Havana – Spotify ...|\n",
      "|2017-11-14 00:00:00|When Someone Has ...|      IISuperwomanII|         Comedy|2017-11-09 22:21:13|[iisuperwomanii, ...| 3371669| 202676|    3394|        20086|You know that fee...|\n",
      "|2017-11-14 00:00:00|Taylor Swift - “N...|ABC Television Ne...|  Entertainment|2017-11-10 02:32:15|[American Broadca...| 2237404|  72593|    1830|         3501|This intimate fan...|\n",
      "+-------------------+--------------------+--------------------+---------------+-------------------+--------------------+--------+-------+--------+-------------+--------------------+\n",
      "only showing top 20 rows\n",
      "\n"
     ]
    }
   ],
   "source": [
    "category_df = category_df.withColumn('trending_date', to_timestamp('trending_date', 'yy.dd.MM'))\n",
    "category_df = category_df.withColumn('publish_time', to_timestamp('publish_time', \"yyyy-MM-dd'T'HH:mm:ss.SSS'Z'\"))\n",
    "category_df = category_df.withColumn('tags', when(category_df['tags'] == '[none]', '').otherwise(category_df['tags']))\n",
    "category_df = category_df.withColumn('tags', split(regexp_replace(\"tags\", '\"', \"\"), \"\\\\|\"))\n",
    "category_df.show()"
   ]
  },
  {
   "cell_type": "code",
   "execution_count": 14,
   "metadata": {},
   "outputs": [
    {
     "name": "stdout",
     "output_type": "stream",
     "text": [
      "----------------------------------------\n",
      "DataFrame thông tin:\n",
      "Số dòng: 38806\n",
      "Số cột: 11\n",
      "----------------------------------------\n",
      "Schema:\n",
      "root\n",
      " |-- trending_date: timestamp (nullable = true)\n",
      " |-- title: string (nullable = true)\n",
      " |-- channel_title: string (nullable = true)\n",
      " |-- category_id: string (nullable = true)\n",
      " |-- publish_time: timestamp (nullable = true)\n",
      " |-- tags: array (nullable = true)\n",
      " |    |-- element: string (containsNull = false)\n",
      " |-- views: string (nullable = true)\n",
      " |-- likes: string (nullable = true)\n",
      " |-- dislikes: string (nullable = true)\n",
      " |-- comment_count: string (nullable = true)\n",
      " |-- description: string (nullable = false)\n",
      "\n",
      "----------------------------------------\n",
      "Số giá trị null trong mỗi cột:\n",
      "+-------------+-----+-------------+-----------+------------+----+-----+-----+--------+-------------+-----------+\n",
      "|trending_date|title|channel_title|category_id|publish_time|tags|views|likes|dislikes|comment_count|description|\n",
      "+-------------+-----+-------------+-----------+------------+----+-----+-----+--------+-------------+-----------+\n",
      "|            0|    0|            0|          0|           0|   0|    0|    0|       0|            0|          0|\n",
      "+-------------+-----+-------------+-----------+------------+----+-----+-----+--------+-------------+-----------+\n",
      "\n"
     ]
    }
   ],
   "source": [
    "dataframe_info(category_df)"
   ]
  }
 ],
 "metadata": {
  "kernelspec": {
   "display_name": "Python 3",
   "language": "python",
   "name": "python3"
  },
  "language_info": {
   "codemirror_mode": {
    "name": "ipython",
    "version": 3
   },
   "file_extension": ".py",
   "mimetype": "text/x-python",
   "name": "python",
   "nbconvert_exporter": "python",
   "pygments_lexer": "ipython3",
   "version": "3.12.4"
  }
 },
 "nbformat": 4,
 "nbformat_minor": 2
}
